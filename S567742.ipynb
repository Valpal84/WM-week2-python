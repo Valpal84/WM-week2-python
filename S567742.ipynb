{
 "cells": [
  {
   "cell_type": "markdown",
   "id": "91e84ab3-dcea-44ac-ac0a-db5586a60149",
   "metadata": {},
   "source": [
    "### Valerie's Notebook"
   ]
  },
  {
   "cell_type": "code",
   "execution_count": 1,
   "id": "f18fa00d-4390-41d0-8fee-048802247f5d",
   "metadata": {
    "tags": []
   },
   "outputs": [
    {
     "name": "stdout",
     "output_type": "stream",
     "text": [
      "*      *\n",
      "**    **\n",
      "***  ***\n",
      "********\n"
     ]
    }
   ],
   "source": [
    "row = 4\n",
    "\n",
    "for i in range(1, row + 1):\n",
    "    print('*' * i + ' ' *(2*(row - i)) + '*' * i)"
   ]
  },
  {
   "cell_type": "code",
   "execution_count": null,
   "id": "46dec68a-d80e-45b2-87c5-b6ae39370833",
   "metadata": {},
   "outputs": [],
   "source": []
  }
 ],
 "metadata": {
  "kernelspec": {
   "display_name": "Python 3 (ipykernel)",
   "language": "python",
   "name": "python3"
  },
  "language_info": {
   "codemirror_mode": {
    "name": "ipython",
    "version": 3
   },
   "file_extension": ".py",
   "mimetype": "text/x-python",
   "name": "python",
   "nbconvert_exporter": "python",
   "pygments_lexer": "ipython3",
   "version": "3.11.5"
  }
 },
 "nbformat": 4,
 "nbformat_minor": 5
}
